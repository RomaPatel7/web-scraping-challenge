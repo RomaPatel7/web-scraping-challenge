news_title = 
news_p = 